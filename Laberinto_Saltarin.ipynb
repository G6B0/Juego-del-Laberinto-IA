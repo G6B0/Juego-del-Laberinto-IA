{
 "cells": [
  {
   "cell_type": "code",
   "execution_count": 19,
   "id": "e1467820-1070-46ba-b71d-fd46f2543f26",
   "metadata": {},
   "outputs": [
    {
     "name": "stdin",
     "output_type": "stream",
     "text": [
      " 5 5 1 1 2 4\n",
      " 3 4 1 3 1 3 3 3 0 2 3 1 2 2 3 4 2 3 3 3 4 1 4 3 2\n"
     ]
    },
    {
     "name": "stdout",
     "output_type": "stream",
     "text": [
      "[3, 4, 1, 3, 1]\n",
      "[3, 3, 3, 0, 2]\n",
      "[3, 1, 2, 2, 3]\n",
      "[4, 2, 3, 3, 3]\n",
      "[4, 1, 4, 3, 2]\n",
      "Tu posicion actual en el juego es: x, y = 1,1\n"
     ]
    },
    {
     "name": "stdin",
     "output_type": "stream",
     "text": [
      "¿A que dirección te quieres mover?, Arriba, Abajo, Izquierda, Derecha:  abajo\n"
     ]
    },
    {
     "name": "stdout",
     "output_type": "stream",
     "text": [
      "Tu posicion actual en el juego es: x, y = 4,1\n"
     ]
    },
    {
     "name": "stdin",
     "output_type": "stream",
     "text": [
      "¿A que dirección te quieres mover?, Arriba, Abajo, Izquierda, Derecha:  derecha\n"
     ]
    },
    {
     "name": "stdout",
     "output_type": "stream",
     "text": [
      "Tu posicion actual en el juego es: x, y = 4,5\n"
     ]
    },
    {
     "name": "stdin",
     "output_type": "stream",
     "text": [
      "¿A que dirección te quieres mover?, Arriba, Abajo, Izquierda, Derecha:  izquierda\n"
     ]
    },
    {
     "name": "stdout",
     "output_type": "stream",
     "text": [
      "Tu posicion actual en el juego es: x, y = 4,2\n"
     ]
    },
    {
     "name": "stdin",
     "output_type": "stream",
     "text": [
      "¿A que dirección te quieres mover?, Arriba, Abajo, Izquierda, Derecha:  arriba\n"
     ]
    },
    {
     "name": "stdout",
     "output_type": "stream",
     "text": [
      "Tu posicion actual en el juego es: x, y = 2,2\n"
     ]
    },
    {
     "name": "stdin",
     "output_type": "stream",
     "text": [
      "¿A que dirección te quieres mover?, Arriba, Abajo, Izquierda, Derecha:  abajo\n"
     ]
    },
    {
     "name": "stdout",
     "output_type": "stream",
     "text": [
      "Tu posicion actual en el juego es: x, y = 5,2\n"
     ]
    },
    {
     "name": "stdin",
     "output_type": "stream",
     "text": [
      "¿A que dirección te quieres mover?, Arriba, Abajo, Izquierda, Derecha:  izquierda\n"
     ]
    },
    {
     "name": "stdout",
     "output_type": "stream",
     "text": [
      "Tu posicion actual en el juego es: x, y = 5,1\n"
     ]
    },
    {
     "name": "stdin",
     "output_type": "stream",
     "text": [
      "¿A que dirección te quieres mover?, Arriba, Abajo, Izquierda, Derecha:  derecha\n"
     ]
    },
    {
     "name": "stdout",
     "output_type": "stream",
     "text": [
      "Tu posicion actual en el juego es: x, y = 5,5\n"
     ]
    },
    {
     "name": "stdin",
     "output_type": "stream",
     "text": [
      "¿A que dirección te quieres mover?, Arriba, Abajo, Izquierda, Derecha:  arriba\n"
     ]
    },
    {
     "name": "stdout",
     "output_type": "stream",
     "text": [
      "Tu posicion actual en el juego es: x, y = 3,5\n"
     ]
    },
    {
     "name": "stdin",
     "output_type": "stream",
     "text": [
      "¿A que dirección te quieres mover?, Arriba, Abajo, Izquierda, Derecha:  izquierda\n"
     ]
    },
    {
     "name": "stdout",
     "output_type": "stream",
     "text": [
      "Tu posicion actual en el juego es: x, y = 3,2\n"
     ]
    },
    {
     "name": "stdin",
     "output_type": "stream",
     "text": [
      "¿A que dirección te quieres mover?, Arriba, Abajo, Izquierda, Derecha:  izquierda\n"
     ]
    },
    {
     "name": "stdout",
     "output_type": "stream",
     "text": [
      "Tu posicion actual en el juego es: x, y = 3,1\n"
     ]
    },
    {
     "name": "stdin",
     "output_type": "stream",
     "text": [
      "¿A que dirección te quieres mover?, Arriba, Abajo, Izquierda, Derecha:  derecha\n"
     ]
    },
    {
     "name": "stdout",
     "output_type": "stream",
     "text": [
      "Tu posicion actual en el juego es: x, y = 3,4\n"
     ]
    },
    {
     "name": "stdin",
     "output_type": "stream",
     "text": [
      "¿A que dirección te quieres mover?, Arriba, Abajo, Izquierda, Derecha:  abajo\n"
     ]
    },
    {
     "name": "stdout",
     "output_type": "stream",
     "text": [
      "Tu posicion actual en el juego es: x, y = 5,4\n"
     ]
    },
    {
     "name": "stdin",
     "output_type": "stream",
     "text": [
      "¿A que dirección te quieres mover?, Arriba, Abajo, Izquierda, Derecha:  arriba\n"
     ]
    },
    {
     "name": "stdout",
     "output_type": "stream",
     "text": [
      "Tu posicion actual en el juego es: x, y = 2,4\n",
      "Ganaste en 13 \n"
     ]
    }
   ],
   "source": [
    "def movimiento_en_la_matriz(direccion,eje_x,eje_y,filas,columnas):\n",
    "            eje_x_actual = eje_x\n",
    "            eje_y_actual = eje_y\n",
    "            eje_x = eje_x + direccion[0]\n",
    "            eje_y = eje_y + direccion[1]\n",
    "            if 0 <= eje_x < filas and 0 <= eje_y < columnas :\n",
    "                return eje_x, eje_y\n",
    "            else:\n",
    "                print(\"Movimiento fuera de los límites de la matriz.\")\n",
    "                return eje_x_actual, eje_y_actual\n",
    "\n",
    "def Laberinto_Saltarin(filas, columnas, fila_i, columna_i, fila_d, columna_d, numeros_matriz):\n",
    "    \n",
    "    \n",
    "    if len(numeros_matriz) != filas* columnas:\n",
    "        print(f\"No escribiste {filas*columnas} numeros\")\n",
    "        return\n",
    "    else:\n",
    "        matriz = []\n",
    "        for i in range(filas):\n",
    "            fila = numeros_matriz[ i * columnas : (i + 1) * columnas]\n",
    "            matriz.append(fila)\n",
    "            print(fila)\n",
    "\n",
    "    \n",
    "    eje_x = fila_i-1\n",
    "    eje_y = columna_i-1\n",
    "    inicio = matriz[eje_x][eje_y]\n",
    "    destino = matriz[fila_d-1][columna_d-1]\n",
    "    posicion_actual = inicio\n",
    "    pasos = 0\n",
    "    arriba = (-posicion_actual, 0)\n",
    "    abajo = (posicion_actual, 0)\n",
    "    izquierda = (0, -posicion_actual)\n",
    "    derecha = (0, posicion_actual)\n",
    "    \n",
    "    while posicion_actual !=destino:\n",
    "        print(f\"Tu posicion actual en el juego es: x, y = {eje_x + 1},{eje_y + 1}\")\n",
    "        posicion_actual = matriz[eje_x][eje_y]\n",
    "        if posicion_actual == destino:\n",
    "            return print(f\"Ganaste en {pasos} \")\n",
    "        arriba = (-posicion_actual, 0)\n",
    "        abajo = (posicion_actual, 0)\n",
    "        izquierda = (0, -posicion_actual)\n",
    "        derecha = (0, posicion_actual)\n",
    "        \n",
    "        decision = input(\"¿A que dirección te quieres mover?, Arriba, Abajo, Izquierda, Derecha: \").lower()\n",
    "        if decision not in [\"arriba\", \"abajo\", \"izquierda\", \"derecha\"]:\n",
    "            print(\"No puedes moverte a otro lugar, intentalo de nuevo\")\n",
    "            continue\n",
    "        else:\n",
    "            if decision == \"arriba\":          \n",
    "                eje_x, eje_y = movimiento_en_la_matriz(arriba,eje_x,eje_y,filas,columnas)\n",
    "                pasos+=1\n",
    "            elif decision == \"abajo\":\n",
    "                eje_x, eje_y = movimiento_en_la_matriz(abajo,eje_x,eje_y,filas,columnas)\n",
    "                pasos+=1\n",
    "            elif decision == \"izquierda\":\n",
    "                eje_x, eje_y = movimiento_en_la_matriz(izquierda,eje_x,eje_y,filas,columnas)\n",
    "               \n",
    "                \n",
    "                pasos+=1\n",
    "            elif decision == \"derecha\":\n",
    "                eje_x, eje_y = movimiento_en_la_matriz(derecha,eje_x,eje_y,filas,columnas)\n",
    "                pasos+=1\n",
    "                \n",
    "\n",
    "\n",
    "entrada = list(map(int, input().split()))\n",
    "filas = entrada[0]\n",
    "columnas = entrada[1]\n",
    "fila_i = entrada[2]\n",
    "columna_i = entrada[3]\n",
    "fila_d = entrada[4]\n",
    "columna_d = entrada[5]\n",
    "numeros_matriz = list(map(int, input().split()))\n",
    "\n",
    "Laberinto_Saltarin(filas,columnas,fila_i,columna_i,fila_d,columna_d,numeros_matriz)"
   ]
  },
  {
   "cell_type": "code",
   "execution_count": null,
   "id": "0d4ed844-e0f6-41b6-b6d6-47caf7f9d855",
   "metadata": {},
   "outputs": [],
   "source": []
  }
 ],
 "metadata": {
  "kernelspec": {
   "display_name": "Python 3 (ipykernel)",
   "language": "python",
   "name": "python3"
  },
  "language_info": {
   "codemirror_mode": {
    "name": "ipython",
    "version": 3
   },
   "file_extension": ".py",
   "mimetype": "text/x-python",
   "name": "python",
   "nbconvert_exporter": "python",
   "pygments_lexer": "ipython3",
   "version": "3.13.0"
  }
 },
 "nbformat": 4,
 "nbformat_minor": 5
}
