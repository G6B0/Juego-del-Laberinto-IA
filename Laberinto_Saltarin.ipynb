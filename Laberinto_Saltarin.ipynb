{
 "cells": [
  {
   "cell_type": "code",
   "execution_count": 19,
   "id": "e1467820-1070-46ba-b71d-fd46f2543f26",
   "metadata": {},
   "outputs": [
    {
     "name": "stdin",
     "output_type": "stream",
     "text": [
      " 5 5 1 1 2 4\n",
      " 3 4 1 3 1 3 3 3 0 2 3 1 2 2 3 4 2 3 3 3 4 1 4 3 2\n"
     ]
    },
    {
     "name": "stdout",
     "output_type": "stream",
     "text": [
      "[3, 4, 1, 3, 1]\n",
      "[3, 3, 3, 0, 2]\n",
      "[3, 1, 2, 2, 3]\n",
      "[4, 2, 3, 3, 3]\n",
      "[4, 1, 4, 3, 2]\n",
      "Tu posicion actual en el juego es: x, y = 1,1\n"
     ]
    },
    {
     "name": "stdin",
     "output_type": "stream",
     "text": [
      "¿A que dirección te quieres mover?, Arriba, Abajo, Izquierda, Derecha:  abajo\n"
     ]
    },
    {
     "name": "stdout",
     "output_type": "stream",
     "text": [
      "Tu posicion actual en el juego es: x, y = 4,1\n"
     ]
    },
    {
     "name": "stdin",
     "output_type": "stream",
     "text": [
      "¿A que dirección te quieres mover?, Arriba, Abajo, Izquierda, Derecha:  derecha\n"
     ]
    },
    {
     "name": "stdout",
     "output_type": "stream",
     "text": [
      "Tu posicion actual en el juego es: x, y = 4,5\n"
     ]
    },
    {
     "name": "stdin",
     "output_type": "stream",
     "text": [
      "¿A que dirección te quieres mover?, Arriba, Abajo, Izquierda, Derecha:  izquierda\n"
     ]
    },
    {
     "name": "stdout",
     "output_type": "stream",
     "text": [
      "Tu posicion actual en el juego es: x, y = 4,2\n"
     ]
    },
    {
     "name": "stdin",
     "output_type": "stream",
     "text": [
      "¿A que dirección te quieres mover?, Arriba, Abajo, Izquierda, Derecha:  arriba\n"
     ]
    },
    {
     "name": "stdout",
     "output_type": "stream",
     "text": [
      "Tu posicion actual en el juego es: x, y = 2,2\n"
     ]
    },
    {
     "name": "stdin",
     "output_type": "stream",
     "text": [
      "¿A que dirección te quieres mover?, Arriba, Abajo, Izquierda, Derecha:  abajo\n"
     ]
    },
    {
     "name": "stdout",
     "output_type": "stream",
     "text": [
      "Tu posicion actual en el juego es: x, y = 5,2\n"
     ]
    },
    {
     "name": "stdin",
     "output_type": "stream",
     "text": [
      "¿A que dirección te quieres mover?, Arriba, Abajo, Izquierda, Derecha:  izquierda\n"
     ]
    },
    {
     "name": "stdout",
     "output_type": "stream",
     "text": [
      "Tu posicion actual en el juego es: x, y = 5,1\n"
     ]
    },
    {
     "name": "stdin",
     "output_type": "stream",
     "text": [
      "¿A que dirección te quieres mover?, Arriba, Abajo, Izquierda, Derecha:  derecha\n"
     ]
    },
    {
     "name": "stdout",
     "output_type": "stream",
     "text": [
      "Tu posicion actual en el juego es: x, y = 5,5\n"
     ]
    },
    {
     "name": "stdin",
     "output_type": "stream",
     "text": [
      "¿A que dirección te quieres mover?, Arriba, Abajo, Izquierda, Derecha:  arriba\n"
     ]
    },
    {
     "name": "stdout",
     "output_type": "stream",
     "text": [
      "Tu posicion actual en el juego es: x, y = 3,5\n"
     ]
    },
    {
     "name": "stdin",
     "output_type": "stream",
     "text": [
      "¿A que dirección te quieres mover?, Arriba, Abajo, Izquierda, Derecha:  izquierda\n"
     ]
    },
    {
     "name": "stdout",
     "output_type": "stream",
     "text": [
      "Tu posicion actual en el juego es: x, y = 3,2\n"
     ]
    },
    {
     "name": "stdin",
     "output_type": "stream",
     "text": [
      "¿A que dirección te quieres mover?, Arriba, Abajo, Izquierda, Derecha:  izquierda\n"
     ]
    },
    {
     "name": "stdout",
     "output_type": "stream",
     "text": [
      "Tu posicion actual en el juego es: x, y = 3,1\n"
     ]
    },
    {
     "name": "stdin",
     "output_type": "stream",
     "text": [
      "¿A que dirección te quieres mover?, Arriba, Abajo, Izquierda, Derecha:  derecha\n"
     ]
    },
    {
     "name": "stdout",
     "output_type": "stream",
     "text": [
      "Tu posicion actual en el juego es: x, y = 3,4\n"
     ]
    },
    {
     "name": "stdin",
     "output_type": "stream",
     "text": [
      "¿A que dirección te quieres mover?, Arriba, Abajo, Izquierda, Derecha:  abajo\n"
     ]
    },
    {
     "name": "stdout",
     "output_type": "stream",
     "text": [
      "Tu posicion actual en el juego es: x, y = 5,4\n"
     ]
    },
    {
     "name": "stdin",
     "output_type": "stream",
     "text": [
      "¿A que dirección te quieres mover?, Arriba, Abajo, Izquierda, Derecha:  arriba\n"
     ]
    },
    {
     "name": "stdout",
     "output_type": "stream",
     "text": [
      "Tu posicion actual en el juego es: x, y = 2,4\n",
      "Ganaste en 13 \n"
     ]
    }
   ],
   "source": [
    "import pygame\n",
    "import sys\n",
    "\n",
    "def movimiento_en_la_matriz(direccion, eje_x, eje_y, filas, columnas):\n",
    "    eje_x_actual = eje_x\n",
    "    eje_y_actual = eje_y\n",
    "    eje_x += direccion[0]\n",
    "    eje_y += direccion[1]\n",
    "    if 0 <= eje_x < filas and 0 <= eje_y < columnas:\n",
    "        return eje_x, eje_y\n",
    "    else:\n",
    "        return eje_x_actual, eje_y_actual\n",
    "\n",
    "def Laberinto_Saltarin_Pygame(filas, columnas, fila_i, columna_i, fila_d, columna_d, numeros_matriz):\n",
    "    pygame.init()\n",
    "\n",
    "    ancho_celda = 100\n",
    "    alto_celda = 100\n",
    "    margen = 5\n",
    "    ancho = columnas * (ancho_celda + margen)\n",
    "    alto = filas * (alto_celda + margen)\n",
    "    pantalla = pygame.display.set_mode((ancho, alto))\n",
    "    pygame.display.set_caption(\"Laberinto Saltarín\")\n",
    "\n",
    "    # Matriz\n",
    "    matriz = [numeros_matriz[i * columnas:(i + 1) * columnas] for i in range(filas)]\n",
    "\n",
    "    eje_x = fila_i - 1\n",
    "    eje_y = columna_i - 1\n",
    "    destino_x = fila_d - 1\n",
    "    destino_y = columna_d - 1\n",
    "\n",
    "    pasos = 0\n",
    "    fuente = pygame.font.SysFont(None, 24)\n",
    "\n",
    "    reloj = pygame.time.Clock()\n",
    "    corriendo = True\n",
    "    juego_ganado = False\n",
    "    while corriendo:\n",
    "        for evento in pygame.event.get():\n",
    "            if evento.type == pygame.QUIT:\n",
    "                corriendo = False\n",
    "            elif evento.type == pygame.KEYDOWN:\n",
    "                if juego_ganado:\n",
    "                    if evento.key ==pygame.K_r:\n",
    "                        eje_x = fila_i - 1\n",
    "                        eje_y = columna_i - 1\n",
    "                        pasos = 0\n",
    "                        juego_ganado = False\n",
    "                else:\n",
    "                    posicion_actual = matriz[eje_x][eje_y]\n",
    "                    arriba = (-posicion_actual, 0)\n",
    "                    abajo = (posicion_actual, 0)\n",
    "                    izquierda = (0, -posicion_actual)\n",
    "                    derecha = (0, posicion_actual)\n",
    "\n",
    "                    movimientos = {\n",
    "                        pygame.K_UP: arriba,\n",
    "                        pygame.K_DOWN: abajo,\n",
    "                        pygame.K_LEFT: izquierda,\n",
    "                        pygame.K_RIGHT: derecha\n",
    "                    }\n",
    "\n",
    "                    if evento.key in movimientos:\n",
    "                        direccion = movimientos[evento.key]\n",
    "                        eje_x, eje_y = movimiento_en_la_matriz(direccion, eje_x, eje_y, filas, columnas)\n",
    "                        pasos += 1\n",
    "\n",
    "        pantalla.fill((0, 0, 0))\n",
    "\n",
    "        for i in range(filas):\n",
    "            for j in range(columnas):\n",
    "                color = (200, 200, 200)\n",
    "                if i == eje_x and j == eje_y:\n",
    "                    color = (0, 255, 0)\n",
    "                elif i == destino_x and j == destino_y:\n",
    "                    color = (255, 0, 0)\n",
    "\n",
    "                rect = pygame.Rect(j * (ancho_celda + margen), i * (alto_celda + margen), ancho_celda, alto_celda)\n",
    "                pygame.draw.rect(pantalla, color, rect)\n",
    "                texto = fuente.render(str(matriz[i][j]), True, (0, 0, 0))\n",
    "                pantalla.blit(texto, (rect.x + 20, rect.y + 20))\n",
    "\n",
    "        if eje_x == destino_x and eje_y == destino_y:\n",
    "            juego_ganado = True\n",
    "            texto_final = fuente.render(f\"¡Ganaste en {pasos} pasos!\", True, (255, 255, 255))\n",
    "            pantalla.blit(texto_final, (10, alto - 30))\n",
    "            reiniciar = fuente.render(\"Presiona R para intentar nuevamente\", True, (255,255,0))\n",
    "            pantalla.blit(reiniciar,(100, alto - 250))\n",
    "\n",
    "        pygame.display.flip()\n",
    "        reloj.tick(30)\n",
    "\n",
    "    pygame.quit()\n",
    "    sys.exit()\n",
    "\n",
    "# --- Entradas de prueba ---\n",
    "entrada = list(map(int, input(\"Filas Columnas Fila_i Col_i Fila_d Col_d: \").split()))\n",
    "filas, columnas, fila_i, columna_i, fila_d, columna_d = entrada\n",
    "numeros_matriz = list(map(int, input(\"Numeros de la matriz: \").split()))\n",
    "\n",
    "Laberinto_Saltarin_Pygame(filas, columnas, fila_i, columna_i, fila_d, columna_d, numeros_matriz)\n"
   ]
  }
 ],
 "metadata": {
  "kernelspec": {
   "display_name": "Python 3 (ipykernel)",
   "language": "python",
   "name": "python3"
  },
  "language_info": {
   "codemirror_mode": {
    "name": "ipython",
    "version": 3
   },
   "file_extension": ".py",
   "mimetype": "text/x-python",
   "name": "python",
   "nbconvert_exporter": "python",
   "pygments_lexer": "ipython3",
   "version": "3.13.0"
  }
 },
 "nbformat": 4,
 "nbformat_minor": 5
}
